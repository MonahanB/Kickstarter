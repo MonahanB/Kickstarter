{
 "cells": [
  {
   "cell_type": "markdown",
   "metadata": {},
   "source": [
    "MArkdown file for the module.\n",
    "\n",
    "Import the module.\n",
    "\n",
    "The final function 'predict' is the function that implements the prediction.\n",
    "\n",
    "To run this please ensure other function definitions have all been executed. \n",
    "\n",
    "Ensure the input is a csv file with the columns as per the csv used to build the model. Ensure it is in an accessible location\n",
    "\n",
    "Execute the command predict()\n",
    "Enter the location of the csv file\n",
    "\n",
    "predictions will be returned for the data"
   ]
  }
 ],
 "metadata": {
  "kernelspec": {
   "display_name": "Python 3",
   "language": "python",
   "name": "python3"
  },
  "language_info": {
   "codemirror_mode": {
    "name": "ipython",
    "version": 3
   },
   "file_extension": ".py",
   "mimetype": "text/x-python",
   "name": "python",
   "nbconvert_exporter": "python",
   "pygments_lexer": "ipython3",
   "version": "3.6.3"
  }
 },
 "nbformat": 4,
 "nbformat_minor": 2
}
