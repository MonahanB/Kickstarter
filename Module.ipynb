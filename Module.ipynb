{
 "cells": [
  {
   "cell_type": "code",
   "execution_count": 8,
   "metadata": {
    "collapsed": true
   },
   "outputs": [],
   "source": [
    "from sklearn.externals import joblib \n",
    "import os\n",
    "import pandas as pd"
   ]
  },
  {
   "cell_type": "code",
   "execution_count": 7,
   "metadata": {
    "collapsed": true
   },
   "outputs": [],
   "source": [
    "def load_model():\n",
    "    model = joblib.load('Models/class_model.pkl')\n",
    "    return model\n",
    "\n",
    "def load_scaler():\n",
    "    scaler = joblib.load('Models/scaler.pkl')\n",
    "    return scaler\n",
    "\n",
    "\n",
    "def succ(row):\n",
    "    if row['state'] != 'successful':\n",
    "        return 'failed'\n",
    "    else:\n",
    "        return 'successful'\n",
    "    \n",
    "def word(row):\n",
    "    return len(row['name'].split())\n",
    "\n",
    "def char(row):\n",
    "    return round(len(row['name']),-1)\n",
    "\n",
    "def time(row):\n",
    "    launch = datetime.datetime.strptime(row['launched'],'%Y-%m-%d %H:%M:%S')\n",
    "    deadline = datetime.datetime.strptime(row['deadline'],'%Y-%m-%d')\n",
    "    return abs((launch-deadline).days)\n",
    "\n",
    "def month(row):\n",
    "    return datetime.datetime.strptime(row['launched'],'%Y-%m-%d %H:%M:%S').month\n",
    "def Country(row):\n",
    "    lst = ['US','GB','CA','AU','DE']\n",
    "    if row['country'] not in lst:\n",
    "        return 'other'\n",
    "    else:\n",
    "        return row['country']\n",
    "\n",
    "def backers(row):\n",
    "    if row['backers']==0:\n",
    "        return '0'\n",
    "    elif row['backers']==1:\n",
    "        return '1'\n",
    "    elif row['backers']==2:\n",
    "        return '2'\n",
    "    elif row['backers']>=3 & row['backers']<=5 :\n",
    "        return '3-5'\n",
    "    elif row['backers']>=6 & row['backers']<=10 :\n",
    "        return '6-10'\n",
    "    elif row['backers']>=11 & row['backers']<=20 :\n",
    "        return '11-20'\n",
    "    elif row['backers']>=21 & row['backers']<=35 :\n",
    "        return '21-35'\n",
    "    elif row['backers']>=36 & row['backers']<=50 :\n",
    "        return '36-50'\n",
    "    elif row['backers']>=51 & row['backers']<=80 :\n",
    "        return '51-80'\n",
    "    elif row['backers']>=81 & row['backers']<=150 :\n",
    "        return '81-150'\n",
    "    elif row['backers']>=151 & row['backers']<=499 :\n",
    "        return '151-499'\n",
    "    elif row['backers']>=500:\n",
    "        return '500+'\n",
    "\n",
    "def preprocess(pathway):\n",
    "    X = pd.read_csv(pathway)\n",
    "    X['word_cnt'] = X.apply(lambda x : word(x),axis=1)\n",
    "    X['number_cnt'] = X.apply(lambda x:char(x),axis = 1)\n",
    "    X['days_raising'] = X.apply(lambda x:time(x),axis=1)\n",
    "    X['launch_month'] = X.apply(lambda x:month(x),axis=1)\n",
    "    X['new_country'] = X.apply(lambda x: Country(x),axis=1)\n",
    "    X['backers_group'] = X.apply(lambda x: backers(x),axis=1)\n",
    "    X.drop(['ID','category','currency','name','launched','deadline','country','backers'],axis=1,inplace=True)\n",
    "    X['category'] = data.main_category.astype('category').cat.codes\n",
    "    X['country'] = data.new_country.astype('category').cat.codes\n",
    "    X['backers'] = data.backers_group.astype('category').cat.codes\n",
    "    model_data = data.drop(['main_category','new_country','backers_group'],axis=1)\n",
    "    return model_data\n",
    "\n",
    "def scale_data(data):\n",
    "    scaler = load_scaler()\n",
    "    new_data = pd.DataFrame(scaler.transform(data),columns=data.columns)\n",
    "    return new_data\n",
    "\n",
    "def convert(data):\n",
    "    return ['success' if elem == 1 else 'failed' for elem in data]"
   ]
  },
  {
   "cell_type": "code",
   "execution_count": null,
   "metadata": {
    "collapsed": true
   },
   "outputs": [],
   "source": [
    "def predict():\n",
    "    pathway = input('please enter the pathway where the csv file for prediction has been stored:')\n",
    "    predict_data = preprocess(pathway)\n",
    "    scaled_data = scale_data(predict_data)\n",
    "    model = load_model()\n",
    "    pred = model.predict(scaled_data)\n",
    "    final = convert(pred)\n",
    "    return final"
   ]
  }
 ],
 "metadata": {
  "kernelspec": {
   "display_name": "Python 3",
   "language": "python",
   "name": "python3"
  },
  "language_info": {
   "codemirror_mode": {
    "name": "ipython",
    "version": 3
   },
   "file_extension": ".py",
   "mimetype": "text/x-python",
   "name": "python",
   "nbconvert_exporter": "python",
   "pygments_lexer": "ipython3",
   "version": "3.6.3"
  }
 },
 "nbformat": 4,
 "nbformat_minor": 2
}
